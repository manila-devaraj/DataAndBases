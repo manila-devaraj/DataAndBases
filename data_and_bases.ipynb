{
  "nbformat": 4,
  "nbformat_minor": 0,
  "metadata": {
    "colab": {
      "name": "PandasAndSQL.ipynb",
      "provenance": [],
      "collapsed_sections": []
    },
    "kernelspec": {
      "display_name": "ml1-arm64",
      "language": "python",
      "name": "ml1-arm64"
    },
    "language_info": {
      "codemirror_mode": {
        "name": "ipython",
        "version": 3
      },
      "file_extension": ".py",
      "mimetype": "text/x-python",
      "name": "python",
      "nbconvert_exporter": "python",
      "pygments_lexer": "ipython3",
      "version": "3.9.1"
    }
  },
  "cells": [
    {
      "cell_type": "markdown",
      "metadata": {
        "id": "uh-ii02vm_cw"
      },
      "source": [
        "# Data Types and Databases\n",
        "\n"
      ]
    },
    {
      "cell_type": "markdown",
      "metadata": {
        "id": "gKkpNs-EX8o8"
      },
      "source": [
        "We'd like a data structure that can represent the columns in the data above by their name. In particular, we want a structure that can easily store variables of different types, that stores column names, and that we can reference by column name as well as by indexed position.  And it would be nice this data structure came with built-in functions that we can use to manipulate it. \n",
        "\n",
        "Pandas is a package/library that does all of this!  The library is built on top of numpy.  There are two basic pandas objects, *series* and *dataframes*, which can be thought of as enhanced versions of 1D and 2D numpy arrays, respectively.  Indeed Pandas attempts to keep all the efficiencies that `numpy` gives us.\n",
        "\n",
        "For reference, here is a useful pandas [cheat sheet](https://drive.google.com/folderview?id=0ByIrJAE4KMTtaGhRcXkxNHhmY2M&usp=sharing) and the pandas [documentation](https://pandas.pydata.org/pandas-docs/stable/)."
      ]
    },
    {
      "cell_type": "code",
      "metadata": {
        "id": "7Ll0s-DBm_c8"
      },
      "source": [
        "import pandas as pd"
      ],
      "execution_count": null,
      "outputs": []
    },
    {
      "cell_type": "code",
      "metadata": {
        "id": "FmMwYAmcm_dM"
      },
      "source": [
        "from collections import OrderedDict\n",
        "def make_frame(list_of_tuples, legend):\n",
        "    framelist=[]\n",
        "    for i, cname in enumerate(legend):\n",
        "        framelist.append((cname,[e[i] for e in list_of_tuples]))\n",
        "    return pd.DataFrame.from_dict(OrderedDict(framelist)) "
      ],
      "execution_count": null,
      "outputs": []
    },
    {
      "cell_type": "markdown",
      "metadata": {
        "id": "tuvTxHNlrja9"
      },
      "source": [
        "## Pandas and Tabular Data"
      ]
    },
    {
      "cell_type": "markdown",
      "metadata": {
        "id": "2JVMbUQ1X8pF"
      },
      "source": [
        "Here is what the data looks like from the file `data/candidates.txt`\n",
        "\n",
        "```\n",
        "id|first_name|last_name|middle_name|party\n",
        "33|Joseph|Biden||D\n",
        "36|Samuel|Brownback||R\n",
        "34|Hillary|Clinton|R.|D\n",
        "39|Christopher|Dodd|J.|D\n",
        "26|John|Edwards||D\n",
        "22|Rudolph|Giuliani||R\n",
        "24|Mike|Gravel||D\n",
        "16|Mike|Huckabee||R\n",
        "30|Duncan|Hunter||R\n",
        "31|Dennis|Kucinich||D\n",
        "37|John|McCain||R\n",
        "20|Barack|Obama||D\n",
        "32|Ron|Paul||R\n",
        "29|Bill|Richardson||D\n",
        "35|Mitt|Romney||R\n",
        "38|Tom|Tancredo||R\n",
        "41|Fred|Thompson|D.|R\n",
        "```"
      ]
    },
    {
      "cell_type": "markdown",
      "metadata": {
        "id": "nzeyEr0Qm_dA"
      },
      "source": [
        "Use Pandas to read in the data"
      ]
    },
    {
      "cell_type": "code",
      "metadata": {
        "colab": {
          "base_uri": "https://localhost:8080/",
          "height": 576
        },
        "id": "b8PbZAfym_dA",
        "jupyter": {
          "outputs_hidden": false
        },
        "outputId": "4f3c4e8f-7855-4b16-987f-d215dbba424d"
      },
      "source": [
        "dfcand=pd.read_csv(\"data/candidates.txt\", sep='|')\n",
        "dfcand"
      ],
      "execution_count": null,
      "outputs": [
        {
          "output_type": "execute_result",
          "data": {
            "text/html": [
              "<div>\n",
              "<style scoped>\n",
              "    .dataframe tbody tr th:only-of-type {\n",
              "        vertical-align: middle;\n",
              "    }\n",
              "\n",
              "    .dataframe tbody tr th {\n",
              "        vertical-align: top;\n",
              "    }\n",
              "\n",
              "    .dataframe thead th {\n",
              "        text-align: right;\n",
              "    }\n",
              "</style>\n",
              "<table border=\"1\" class=\"dataframe\">\n",
              "  <thead>\n",
              "    <tr style=\"text-align: right;\">\n",
              "      <th></th>\n",
              "      <th>id</th>\n",
              "      <th>first_name</th>\n",
              "      <th>last_name</th>\n",
              "      <th>middle_name</th>\n",
              "      <th>party</th>\n",
              "    </tr>\n",
              "  </thead>\n",
              "  <tbody>\n",
              "    <tr>\n",
              "      <th>0</th>\n",
              "      <td>33</td>\n",
              "      <td>Joseph</td>\n",
              "      <td>Biden</td>\n",
              "      <td>NaN</td>\n",
              "      <td>D</td>\n",
              "    </tr>\n",
              "    <tr>\n",
              "      <th>1</th>\n",
              "      <td>36</td>\n",
              "      <td>Samuel</td>\n",
              "      <td>Brownback</td>\n",
              "      <td>NaN</td>\n",
              "      <td>R</td>\n",
              "    </tr>\n",
              "    <tr>\n",
              "      <th>2</th>\n",
              "      <td>34</td>\n",
              "      <td>Hillary</td>\n",
              "      <td>Clinton</td>\n",
              "      <td>R.</td>\n",
              "      <td>D</td>\n",
              "    </tr>\n",
              "    <tr>\n",
              "      <th>3</th>\n",
              "      <td>39</td>\n",
              "      <td>Christopher</td>\n",
              "      <td>Dodd</td>\n",
              "      <td>J.</td>\n",
              "      <td>D</td>\n",
              "    </tr>\n",
              "    <tr>\n",
              "      <th>4</th>\n",
              "      <td>26</td>\n",
              "      <td>John</td>\n",
              "      <td>Edwards</td>\n",
              "      <td>NaN</td>\n",
              "      <td>D</td>\n",
              "    </tr>\n",
              "    <tr>\n",
              "      <th>5</th>\n",
              "      <td>22</td>\n",
              "      <td>Rudolph</td>\n",
              "      <td>Giuliani</td>\n",
              "      <td>NaN</td>\n",
              "      <td>R</td>\n",
              "    </tr>\n",
              "    <tr>\n",
              "      <th>6</th>\n",
              "      <td>24</td>\n",
              "      <td>Mike</td>\n",
              "      <td>Gravel</td>\n",
              "      <td>NaN</td>\n",
              "      <td>D</td>\n",
              "    </tr>\n",
              "    <tr>\n",
              "      <th>7</th>\n",
              "      <td>16</td>\n",
              "      <td>Mike</td>\n",
              "      <td>Huckabee</td>\n",
              "      <td>NaN</td>\n",
              "      <td>R</td>\n",
              "    </tr>\n",
              "    <tr>\n",
              "      <th>8</th>\n",
              "      <td>30</td>\n",
              "      <td>Duncan</td>\n",
              "      <td>Hunter</td>\n",
              "      <td>NaN</td>\n",
              "      <td>R</td>\n",
              "    </tr>\n",
              "    <tr>\n",
              "      <th>9</th>\n",
              "      <td>31</td>\n",
              "      <td>Dennis</td>\n",
              "      <td>Kucinich</td>\n",
              "      <td>NaN</td>\n",
              "      <td>D</td>\n",
              "    </tr>\n",
              "    <tr>\n",
              "      <th>10</th>\n",
              "      <td>37</td>\n",
              "      <td>John</td>\n",
              "      <td>McCain</td>\n",
              "      <td>NaN</td>\n",
              "      <td>R</td>\n",
              "    </tr>\n",
              "    <tr>\n",
              "      <th>11</th>\n",
              "      <td>20</td>\n",
              "      <td>Barack</td>\n",
              "      <td>Obama</td>\n",
              "      <td>NaN</td>\n",
              "      <td>D</td>\n",
              "    </tr>\n",
              "    <tr>\n",
              "      <th>12</th>\n",
              "      <td>32</td>\n",
              "      <td>Ron</td>\n",
              "      <td>Paul</td>\n",
              "      <td>NaN</td>\n",
              "      <td>R</td>\n",
              "    </tr>\n",
              "    <tr>\n",
              "      <th>13</th>\n",
              "      <td>29</td>\n",
              "      <td>Bill</td>\n",
              "      <td>Richardson</td>\n",
              "      <td>NaN</td>\n",
              "      <td>D</td>\n",
              "    </tr>\n",
              "    <tr>\n",
              "      <th>14</th>\n",
              "      <td>35</td>\n",
              "      <td>Mitt</td>\n",
              "      <td>Romney</td>\n",
              "      <td>NaN</td>\n",
              "      <td>R</td>\n",
              "    </tr>\n",
              "    <tr>\n",
              "      <th>15</th>\n",
              "      <td>38</td>\n",
              "      <td>Tom</td>\n",
              "      <td>Tancredo</td>\n",
              "      <td>NaN</td>\n",
              "      <td>R</td>\n",
              "    </tr>\n",
              "    <tr>\n",
              "      <th>16</th>\n",
              "      <td>41</td>\n",
              "      <td>Fred</td>\n",
              "      <td>Thompson</td>\n",
              "      <td>D.</td>\n",
              "      <td>R</td>\n",
              "    </tr>\n",
              "  </tbody>\n",
              "</table>\n",
              "</div>"
            ],
            "text/plain": [
              "    id   first_name   last_name middle_name party\n",
              "0   33       Joseph       Biden         NaN     D\n",
              "1   36       Samuel   Brownback         NaN     R\n",
              "2   34      Hillary     Clinton          R.     D\n",
              "3   39  Christopher        Dodd          J.     D\n",
              "4   26         John     Edwards         NaN     D\n",
              "5   22      Rudolph    Giuliani         NaN     R\n",
              "6   24         Mike      Gravel         NaN     D\n",
              "7   16         Mike    Huckabee         NaN     R\n",
              "8   30       Duncan      Hunter         NaN     R\n",
              "9   31       Dennis    Kucinich         NaN     D\n",
              "10  37         John      McCain         NaN     R\n",
              "11  20       Barack       Obama         NaN     D\n",
              "12  32          Ron        Paul         NaN     R\n",
              "13  29         Bill  Richardson         NaN     D\n",
              "14  35         Mitt      Romney         NaN     R\n",
              "15  38          Tom    Tancredo         NaN     R\n",
              "16  41         Fred    Thompson          D.     R"
            ]
          },
          "metadata": {
            "tags": []
          },
          "execution_count": 3
        }
      ]
    },
    {
      "cell_type": "markdown",
      "metadata": {
        "id": "cKdoCTF5X8pJ"
      },
      "source": [
        "Here is the other file, of contributions to candidates:\n",
        "\n",
        "```\n",
        "id|last_name|first_name|middle_name|street_1|street_2|city|state|zip|amount|date|candidate_id\n",
        "|Agee|Steven||549 Laurel Branch Road||Floyd|VA|24091|500.00|2007-06-30|16\n",
        "|Ahrens|Don||4034 Rennellwood Way||Pleasanton|CA|94566|250.00|2007-05-16|16\n",
        "|Ahrens|Don||4034 Rennellwood Way||Pleasanton|CA|94566|50.00|2007-06-18|16\n",
        "|Ahrens|Don||4034 Rennellwood Way||Pleasanton|CA|94566|100.00|2007-06-21|16\n",
        "|Akin|Charles||10187 Sugar Creek Road||Bentonville|AR|72712|100.00|2007-06-16|16\n",
        "|Akin|Mike||181 Baywood Lane||Monticello|AR|71655|1500.00|2007-05-18|16\n",
        "|Akin|Rebecca||181 Baywood Lane||Monticello|AR|71655|500.00|2007-05-18|16\n",
        "|Aldridge|Brittni||808 Capitol Square Place, SW||Washington|DC|20024|250.00|2007-06-06|16\n",
        "|Allen|John D.||1052 Cannon Mill Drive||North Augusta|SC|29860|1000.00|2007-06-11|16\n",
        "|Allen|John D.||1052 Cannon Mill Drive||North Augusta|SC|29860|1300.00|2007-06-29|16\n",
        "|Allison|John W.||P.O. Box 1089||Conway|AR|72033|1000.00|2007-05-18|16\n",
        "|Allison|Rebecca||3206 Summit Court||Little Rock|AR|72227|1000.00|2007-04-25|16\n",
        "|Allison|Rebecca||3206 Summit Court||Little Rock|AR|72227|200.00|2007-06-12|16\n",
        "|Altes|R.D.||8600 Moody Road||Fort Smith|AR|72903|2300.00|2007-06-21|16\n",
        "|Andres|Dale||1160 Glen Oaks Drive||West Des Moines|IA|50266|250.00|2007-06-06|16\n",
        "|Anthony|John||211 Long Island Drive||Hot Springs|AR|71913|2300.00|2007-06-12|16\n",
        "|Arbogast|Robert||12900 State Route 56 SE||Mount Sterling|OH|43143|500.00|2007-04-08|16\n",
        "|Arbogast|Robert||12900 State Route 56 SE||Mount Sterling|OH|43143|100.00|2007-06-22|16\n",
        "|Ardle|William||412 Dakota Avenue||Springfield|OH|45504|50.00|2007-06-28|16\n",
        "|Atiq|Omar||7200 S Hazel Street||Pine Bluff|AR|71603|1000.00|2007-05-18|16\n",
        "|Atiq|Omar||7200 S Hazel Street||Pine Bluff|AR|71603|1000.00|2007-06-27|16\n",
        "|Baker|David||2550 Adamsbrooke Drive||Conway|AR|72034|2300.00|2007-04-11|16\n",
        "|Bancroft|David||2934 Broderick Street||San Francisco|CA|94123|250.00|2007-04-24|16\n",
        "|Banks|Charles||P.O. Box 251310||Little Rock|AR|72225|1000.00|2007-05-14|16\n",
        "|Barbee|John||516 Kellyridge Drive||Apex|NC|27502|500.00|2007-05-23|16\n",
        "|Buckler|Steve||24351 Armada Dr||Dana Point|CA|926291306|50.00|2007-07-30|20\n",
        "|Buckler|Steve||24351 Armada Dr||Dana Point|CA|926291306|25.00|2007-08-16|20\n",
        "|Buckheit|Bruce||8904 KAREN DR||FAIRFAX|VA|220312731|100.00|2007-09-19|20\n",
        "|Buckel|Linda||PO Box 683130||Park City|UT|840683130|2300.00|2007-08-14|20\n",
        "|Buckel|Linda||PO Box 683130||Park City|UT|840683130|-2300.00|2007-08-14|20\n",
        "|Buckel|Linda||PO Box 683130||Park City|UT|840683130|4600.00|2007-08-14|20\n",
        "|Buck|Thomas||4206 Terrace Street||Kansas City|MO|64111|100.00|2007-09-25|20\n",
        "|Buck|Jay|K.|1855 Old Willow Rd Unit 322||Northfield|IL|600932918|200.00|2007-09-12|20\n",
        "|Buck|Blaine|M|45 Eaton Ave||Camden|ME|048431752|2300.00|2007-09-30|20\n",
        "|Buck|Barbara||1780 NE 138th St||North Miami|FL|331811316|50.00|2007-09-13|20\n",
        "|Buck|Barbara||1780 NE 138th St||North Miami|FL|331811316|50.00|2007-07-19|20\n",
        "|Buchman|Mark M||2530 Lawton Ave||San Luis Obispo|CA|934015622|460.80|2007-07-18|20\n",
        "|Bucher|Ida|M|1400 Warnall Ave||Los Angeles|CA|900245333|100.00|2007-07-10|20\n",
        "|Buchanek|Elizabeth||7917 Kentbury Dr||Bethesda|MD|208144615|50.00|2007-09-30|20\n",
        "|Buchanan|John||2025 NW 29th Rd||Boca Raton|FL|334316303|500.00|2007-09-24|20\n",
        "|Buchanan|John||2025 NW 29th Rd||Boca Raton|FL|334316303|-500.00|2007-09-24|20\n",
        "|Buchanan|John||2025 NW 29th Rd||Boca Raton|FL|334316303|500.00|2007-09-24|20\n",
        "|Buchanan|John||2025 NW 29th Rd||Boca Raton|FL|334316303|700.00|2007-08-28|20\n",
        "|Buchanan|John||2025 NW 29th Rd||Boca Raton|FL|334316303|-700.00|2007-08-28|20\n",
        "|Buchanan|John||2025 NW 29th Rd||Boca Raton|FL|334316303|1000.00|2007-08-28|20\n",
        "|Buchanan|John||2025 NW 29th Rd||Boca Raton|FL|334316303|1300.00|2007-08-09|20\n",
        "|Buchanan|John||2025 NW 29th Rd||Boca Raton|FL|334316303|200.00|2007-08-14|20\n",
        "|Buchanan|John||2025 NW 29th Rd||Boca Raton|FL|334316303|500.00|2007-07-25|20\n",
        "|Buchanan|John||4635 49th St NW||Washington|DC|200164320|200.09|2007-09-23|20\n",
        "|Harrison|Ryan||2247 3rd St||La Verne|CA|917504918|25.00|2007-07-26|20\n",
        "|BYNUM|HERBERT||332 SUNNYSIDE ROAD||TAMPA|FL|336177249|-500.00|2008-03-10|22\n",
        "|BYINGTON|MARGARET|E.|2633 MIDDLEBORO LANE N.E.||GRAND RAPIDS|MI|495061254|-2300.00|2008-03-03|22\n",
        "|BYERS|BOB|A.|13170 TELFAIR AVENUE||SYLMAR|CA|913423573|-2300.00|2008-03-07|22\n",
        "|BYERS|AUDREY||2658 LADBROOK WAY||THOUSAND OAKS|CA|913615073|-200.00|2008-03-07|22\n",
        "|BUSH|KRYSTIE||P.O. BOX 61046||DENVER|CO|802061046|-2300.00|2008-03-06|22\n",
        "|BUSH|ERIC||P.O. BOX 61046||DENVER|CO|802061046|-2300.00|2008-03-06|22\n",
        "|BURTON|SUSAN||9338 DEER CREEK DRIVE||TAMPA|FL|336472286|-2300.00|2008-03-05|22\n",
        "|BURTON|STEVEN|G.|9938 DEER CREEK DRIVE||TAMPA|FL|33647|-2300.00|2008-03-05|22\n",
        "|BURTON|GLENN|M.|4404 CHARLESTON COURT||TAMPA|FL|336092620|-2300.00|2008-03-05|22\n",
        "|BURKHARDT|CRAIG|S.|910 15TH STREET N.W.||WASHINGTON|DC|200052503|-500.00|2008-03-07|22\n",
        "|BURKHARDT|CRAIG|S.|910 15TH STREET N.W.||WASHINGTON|DC|200052503|-1000.00|2008-03-07|22\n",
        "|BURKHARDT|BARBARA||910 15TH STREET N.W.||WASHINGTON|DC|200052503|-500.00|2008-03-07|22\n",
        "|BURKE|SUZANNE|M.|3401 EVANSTON||SEATTLE|WA|981038677|-700.00|2008-03-05|22\n",
        "|BURKE|GAIL||165 E. 32ND STREET|APARTMENT 9E|NEW YORK|NY|100166014|-2000.00|2008-03-05|22\n",
        "|BURKE|DONALD|J.|12 LOMPOC||RANCHO SANTA MARGA|CA|926881817|-2300.00|2008-03-11|22\n",
        "|BURGERT|RONALD|L.|5723 PLUMTREE DRIVE||DALLAS|TX|752524926|-1000.00|2008-03-05|22\n",
        "|BULL|BARTLE|B.|439 E. 51ST STREET||NEW YORK|NY|100226473|-800.00|2008-03-10|22\n",
        "|BULL|BARTLE|B.|439 E. 51ST STREET||NEW YORK|NY|100226473|-1000.00|2008-03-10|22\n",
        "|BUKOWSKI|DANIEL|J.|702 S. WRIGHT STREET||NAPERVILLE|IL|605406736|-100.00|2008-03-10|22\n",
        "|BUISSON|MARGARET|A.|P.O. BOX 197029||LOUISVILLE|KY|402597029|-200.00|2008-03-11|22\n",
        "|BUCKLEY|WALTER|W.|1635 COUNTRY ROAD||BETHLEHEM|PA|180155718|-100.00|2008-03-05|22\n",
        "|BUCKLEY|MARJORIE|B.|1635 COUNTRY ROAD||BETHLEHEM|PA|180155718|-100.00|2008-03-05|22\n",
        "|BRUNO|JOHN||10136 WINDERMERE CHASE BLVD.||GOTHA|FL|347344707|-2300.00|2008-03-06|22\n",
        "|BRUNO|IRENE||10136 WINDERMERE CHASE BLVD.||GOTHA|FL|347344707|-2300.00|2008-03-06|22\n",
        "|BROWN|TIMOTHY|J.|26826 MARLOWE COURT||STEVENSON RANCH|CA|913811020|-2300.00|2008-03-06|22\n",
        "|Schuff|Bryan||1700 W Sweden Rd||Brockport|NY|14420|-25.00|2008-08-22|32\n",
        "|Hobbs|James||229 Cherry Lane||White House|TN|37188|-25.00|2008-08-19|32\n",
        "|Ranganath|Anoop||2507 Willard Drive||Charlottesville|VA|22903|-100.00|2008-04-21|32\n",
        "|Nystrom|Michael|A|93A Fairmont Street||Arlington|MA|02474|-503.00|2008-04-21|32\n",
        "|Muse|Nina|Jo|2915 Toro Canyon Rd||Austin|TX|78746|-50.00|2008-04-21|32\n",
        "|Waddell|James|L.|1823 Spel Lane SW||Rochester|MN|55902|-28.00|2008-04-21|32\n",
        "|Brucks|William|C.|PO Box 391||Corona del Mar|CA|92625|-150.00|2008-04-21|32\n",
        "|Kuehn|David||14502 West 93rd Street||Lenexa|KS|66215|-330.00|2008-04-21|32\n",
        "|Verster|Jeanette|M.|7220 SW 61st St||Miami|FL|331431807|-1000.00|2008-04-21|32\n",
        "|Uihlein|Richard||1396 N Waukegan Rd||Lake Forest|IL|600451147|-2300.00|2008-04-21|32\n",
        "|Eskenberry|Robert|P|10960 Gray Cir||Westminster|CO|80020|-223.00|2008-04-21|32\n",
        "|Froehling|Alan|L.|302 Broadway St||Mount Vernon|IL|628645116|-844.80|2008-04-21|32\n",
        "|Duryea|Marcia|A.|123 Bayview Ave||Amityville|NY|11701|-299.50|2008-04-21|32\n",
        "|Perreault|Louise||503 Brockridge Hunt Drive||Hampton|VA|23666|-34.08|2008-04-21|32\n",
        "|Rozenfeld|Timur||57 Herbert Road||Robbinsville|NJ|08691|-777.95|2008-04-21|32\n",
        "|Kazor|Christopher|M|707 Spindletree ave||Naperville|IL|60565|-2592.00|2008-04-21|32\n",
        "|Lehner|Thomas|S.|2701 Star Lane||Wadsworth|OH|44281|-200.00|2008-04-21|32\n",
        "|Plummer|Joseph||587 Blake Hill Rd||New Hampton|NH|032564424|-24.60|2008-04-21|32\n",
        "|Raught|Philip|M|4714 Plum Way||Pittsburgh|PA|15201|-1046.00|2008-04-21|32\n",
        "|Ferrara|Judith|D|1508 Waterford Road||Yardley|PA|19067|-1100.00|2008-04-21|32\n",
        "|Johnson|Cathleen|E.|1003 Justin Ln Apt 2016||Austin|TX|787572648|-14.76|2008-04-21|32\n",
        "|Sanford|Bradley||940 Post St #43||San Francisco|CA|94109|-24.53|2008-04-21|32\n",
        "|Gaarder|Bruce||PO Box 4085||Mountain Home AFB|ID|83648|-261.00|2008-04-21|32\n",
        "|Choe|Hyeokchan||207 Bridle Way||Fort Lee|NJ|070246302|-39.50|2008-04-21|32\n",
        "|Jacobs|Richard|G.|14337 Tawya Rd||Apple Valley|CA|923075545|-1000.00|2008-04-21|32\n",
        "|Aaronson|Rebecca||2000 Village Green Dr Apt 12||Mill Creek|WA|980125787|100.00|2008-02-08|34\n",
        "|Aarons|Elaine||481 Buck Island Rd Apt 17A|APT 17A|West Yarmouth|MA|026733300|25.00|2008-02-26|34\n",
        "|Aarons|Elaine||481 Buck Island Rd Apt 17A|APT 17A|West Yarmouth|MA|026733300|70.00|2008-02-25|34\n",
        "|Aarons|Elaine||481 Buck Island Rd Apt 17A|APT 17A|West Yarmouth|MA|026733300|100.00|2008-02-08|34\n",
        "|Aaron|Shirley||101 Cherry Ave||Havana|FL|323331311|50.00|2008-02-29|34\n",
        "|Aaron|Shirley||101 Cherry Ave||Havana|FL|323331311|100.00|2008-02-29|34\n",
        "|Aaronson|Rebecca||2000 Village Green Dr Apt 12||Mill Creek|WA|980125787|100.00|2008-02-14|34\n",
        "|Aaron|Shirley||101 Cherry Ave||Havana|FL|323331311|100.00|2008-02-24|34\n",
        "|Aaron|Shirley||101 Cherry Ave||Havana|FL|323331311|100.00|2008-02-22|34\n",
        "|Aaron|Shirley||101 Cherry Ave||Havana|FL|323331311|100.00|2008-02-17|34\n",
        "|Reid|Elizabeth||73 W Patent Rd|OPHIR FARM NORTH|Bedford Hills|NY|105072222|-350.00|2008-08-28|34\n",
        "|Reich|Thomas||499 Park Ave||New York|NY|100221240|-2300.00|2008-08-28|34\n",
        "|Aaron|Shirley||101 Cherry Ave||Havana|FL|323331311|100.00|2008-02-08|34\n",
        "|Aaron|Shirley||101 Cherry Ave||Havana|FL|323331311|100.00|2008-02-03|34\n",
        "|Aaron|Sharron||1804 E Montgomery St||Broken Arrow|OK|740121840|500.00|2008-02-09|34\n",
        "|Aaron|Patricia||418 NW 35th St||Oklahoma City|OK|731188602|200.00|2008-02-26|34\n",
        "|Aaron|Patricia||418 NW 35th St||Oklahoma City|OK|731188602|100.00|2008-02-12|34\n",
        "|Aaron|Jim||2178 Fairway Cir||Canton|MI|481885097|300.00|2008-02-07|34\n",
        "|Aaron|Jim||2178 Fairway Cir||Canton|MI|481885097|200.00|2008-02-29|34\n",
        "|Aaron|Carole||PO Box 1806||Ogunquit|ME|039071806|70.00|2008-02-29|34\n",
        "|Aaron|Carole||PO Box 1806||Ogunquit|ME|039071806|50.00|2008-02-07|34\n",
        "|Aaron|Carole||PO Box 1806||Ogunquit|ME|039071806|100.00|2008-02-03|34\n",
        "|Aaron|Barbara||2298 Pacific Ave # 6||San Francisco|CA|941151435|1000.00|2008-02-11|34\n",
        "|Aanonsen|Lin||897 Raymond Ave||Saint Paul|MN|551141508|250.00|2008-02-21|34\n",
        "|Aanonsen|Lin||897 Raymond Ave||Saint Paul|MN|551141508|100.00|2008-02-08|34\n",
        "|BOURNE|TRAVIS||LAGE KAART 77||BRASSCHATT||02930|-500.00|2008-11-20|35\n",
        "|SECRIST|BRIAN|L.|3 MULE DEER TRAIL||LITTLETON|CO|801275722|-1000.00|2008-04-07|35\n",
        "|TOLLESTRUP|TRAVIS|W.|16331 WINECREEK RD.||SAN DIEGO|CA|92127|-1000.00|2008-05-15|35\n",
        "|ACCORD|DEAN|C.|8813 ROBINSON RIDGE ROAD||LAS VEGAS|NV|891175812|500.00|2007-07-13|35\n",
        "|ABTS|HENRY||P. O. BOX 7299||INCLINE VILLAGE|NV|894527299|100.00|2007-07-13|35\n",
        "|ABSHIER|LANNY||14191 S.E. HIGHWAY 301||SUMMERFIELD|FL|34491|500.00|2007-09-25|35\n",
        "|ABSHIER|DIANA||14191 S.E. HIGHWAY 301||SUMMERFIELD|FL|34491|500.00|2007-09-25|35\n",
        "|ABREU|KEVIN|M.|1305 GARDEN GLEN LANE||PEARLAND|TX|775816547|50.00|2007-09-30|35\n",
        "|ABREU|KEVIN|M.|1305 GARDEN GLEN LANE||PEARLAND|TX|775816547|150.00|2007-08-09|35\n",
        "|ABREU|KEVIN|M.|1305 GARDEN GLEN LANE||PEARLAND|TX|775816547|50.00|2007-07-19|35\n",
        "|ABRAMOWITZ|NIRA||411 HARBOR ROAD||SOUTHPORT|CT|068901376|2300.00|2007-09-14|35\n",
        "|ABRAMS|MICHAEL||7910 WOODMONT AVENUE||BETHESDA|MD|208143002|250.00|2007-09-29|35\n",
        "|ABRAMOWITZ|KEN||200 CENTRAL PARK S.|APARTMENT 31A|NEW YORK|NY|100191448|300.00|2007-09-11|35\n",
        "|ABOUBAKARE|NASAR||1400 SAN MIGUEL DRIVE||CORONA DEL MAR|CA|926251300|1000.00|2007-07-09|35\n",
        "|ABEGG|PATRICIA|T.|1862 E. 5150 S.||SALT LAKE CITY|UT|841176911|75.00|2007-09-25|35\n",
        "|ABEGG|PATRICIA|T.|1862 E. 5150 S.||SALT LAKE CITY|UT|841176911|25.00|2007-09-17|35\n",
        "|ABEGG|PATRICIA|T.|1862 E. 5150 S.||SALT LAKE CITY|UT|841176911|75.00|2007-08-31|35\n",
        "|ABEGG|PATRICIA|T.|1862 E. 5150 S.||SALT LAKE CITY|UT|841176911|75.00|2007-08-14|35\n",
        "|ABEGG|PATRICIA|T.|1862 E. 5150 S.||SALT LAKE CITY|UT|841176911|25.00|2007-08-06|35\n",
        "|ABEGG|PATRICIA|T.|1862 E. 5150 S.||SALT LAKE CITY|UT|841176911|25.00|2007-07-10|35\n",
        "|ABDELLA|THOMAS|M.|4231 MONUMENT WALL WAY #340||FAIRFAX|VA|220308440|50.00|2007-09-30|35\n",
        "|ABBOTT|WELDON|S.|777 EAST SOUTH TEMPLE  4E||SALT LAKE CITY|UT|841021269|100.00|2007-09-29|35\n",
        "|ABBOTT|WELDON|S.|777 EAST SOUTH TEMPLE  4E||SALT LAKE CITY|UT|841021269|50.00|2007-08-09|35\n",
        "|ABBOTT|GERALD|F.|389 BENEFIT STREET||PROVIDENCE|RI|029032946|100.00|2007-09-15|35\n",
        "|ABBOTT|GERALD|F.|389 BENEFIT STREET||PROVIDENCE|RI|029032946|100.00|2007-08-15|35\n",
        "|ABEDIN|ZAINUL||715 N. CENTRAL AVENUE|SUITE 212|GLENDALE|CA|912031164|500.00|2008-01-21|37\n",
        "|ABBOTT|SYBIL|F.|446 GAMES DRIVE||RENO|NV|895093326|75.00|2008-01-08|37\n",
        "|ABBOTT|SYBIL|F.|446 GAMES DRIVE||RENO|NV|895093326|50.00|2008-01-08|37\n",
        "|ABBOTT|RONALD|LEANDER|5453 HAWTHORNE STREET||MONTCLAIR|CA|917632551|200.00|2008-01-31|37\n",
        "|ABBOTT|RONALD|LEANDER|5453 HAWTHORNE STREET||MONTCLAIR|CA|917632551|100.00|2008-01-08|37\n",
        "|ABBOTT|ROBERT|A.|3061 LOREE ROAD||DECKERVILLE|MI|484279763|500.00|2008-01-21|37\n",
        "|ABBOTT|MIKE|E.|4516 OSPREY LNDG||NICEVILLE|FL|325786810|1000.00|2008-01-15|37\n",
        "|ABBOT|DAVID|M.|56 SALEM STREET||ANDOVER|MA|018102114|200.00|2008-01-21|37\n",
        "|ABBO|PAULINE|MORENCY|10720 JACOB LANE||WHITE LAKE|MI|483862274|35.00|2008-01-07|37\n",
        "|ABATE|MARIA|ELENA|1291 NIGHTINGALE AVENUE||MIAMI SPRINGS|FL|331663832|2600.00|2008-01-25|37\n",
        "|ABAIR|PETER||40 EVANS STREET||WATERTOWN|MA|024722150|25.00|2008-01-09|37\n",
        "|ABACHERLI|SHIRLEY|M.|29875 NEWPORT ROAD||MENIFEE|CA|925849524|150.00|2008-01-28|37\n",
        "|AARONS|CHARLES||1730 SHORE DRIVE||ANCHORAGE|AK|995153207|300.00|2008-01-30|37\n",
        "|AARONS|CHARLES||1730 SHORE DRIVE||ANCHORAGE|AK|995153207|410.00|2008-01-15|37\n",
        "|AARONS|CHARLES||1730 SHORE DRIVE||ANCHORAGE|AK|995153207|500.00|2008-01-09|37\n",
        "|ABEL|JOHN|H.|422 THOMAS STREET||BETHLEHEM|PA|180153316|200.00|2008-01-22|37\n",
        "|ABEL|MARLING|L.|14 HANGING MOSS LANE||GREENVILLE|SC|296155069|100.00|2008-01-22|37\n",
        "|ABEL|RUDOLPH||4532 OCEAN BLVD.|# 108|SARASOTA|FL|342421337|100.00|2008-01-08|37\n",
        "|ABELE|RODNEY||3620 METAIRIE HEIGHTS AVENUE||METAIRIE|LA|700021823|500.00|2008-01-15|37\n",
        "|ABERCROMBIE|DENIS||11811 WATER OAK CT||MAGNOLIA|TX|773546270|500.00|2008-01-30|37\n",
        "|ABESHAUS|MERRILL|M.|1801 N. HEREFORD DRIVE||FLAGSTAFF|AZ|860011121|120.00|2008-01-16|37\n",
        "|ABRAHAM|GEORGE||P.O. BOX 1504||LAKE CHARLES|LA|706021504|800.00|2008-01-17|37\n",
        "|ABRAHAMSON|PETER|J.|1030 W. ROSCOE STREET||CHICAGO|IL|606572207|50.00|2008-01-25|37\n",
        "|ABRAHAM|SALEM|A.|P.O. BOX 7||CANADIAN|TX|790140007|1000.00|2008-01-17|37\n",
        "|ABRAHAM|SALEM|A.|P.O. BOX 7||CANADIAN|TX|790140007|1300.00|2008-01-30|37\n",
        "```"
      ]
    },
    {
      "cell_type": "code",
      "metadata": {
        "colab": {
          "base_uri": "https://localhost:8080/",
          "height": 204
        },
        "id": "zM7kcM3dm_dB",
        "jupyter": {
          "outputs_hidden": false
        },
        "outputId": "64234bfc-033d-406c-ecba-9b993ce039b5"
      },
      "source": [
        "dfcwci=pd.read_csv(\"data/contributors_with_candidate_id.txt\", sep=\"|\")\n",
        "dfcwci.head()"
      ],
      "execution_count": null,
      "outputs": [
        {
          "output_type": "execute_result",
          "data": {
            "text/html": [
              "<div>\n",
              "<style scoped>\n",
              "    .dataframe tbody tr th:only-of-type {\n",
              "        vertical-align: middle;\n",
              "    }\n",
              "\n",
              "    .dataframe tbody tr th {\n",
              "        vertical-align: top;\n",
              "    }\n",
              "\n",
              "    .dataframe thead th {\n",
              "        text-align: right;\n",
              "    }\n",
              "</style>\n",
              "<table border=\"1\" class=\"dataframe\">\n",
              "  <thead>\n",
              "    <tr style=\"text-align: right;\">\n",
              "      <th></th>\n",
              "      <th>id</th>\n",
              "      <th>last_name</th>\n",
              "      <th>first_name</th>\n",
              "      <th>middle_name</th>\n",
              "      <th>street_1</th>\n",
              "      <th>street_2</th>\n",
              "      <th>city</th>\n",
              "      <th>state</th>\n",
              "      <th>zip</th>\n",
              "      <th>amount</th>\n",
              "      <th>date</th>\n",
              "      <th>candidate_id</th>\n",
              "    </tr>\n",
              "  </thead>\n",
              "  <tbody>\n",
              "    <tr>\n",
              "      <th>0</th>\n",
              "      <td>NaN</td>\n",
              "      <td>Agee</td>\n",
              "      <td>Steven</td>\n",
              "      <td>NaN</td>\n",
              "      <td>549 Laurel Branch Road</td>\n",
              "      <td>NaN</td>\n",
              "      <td>Floyd</td>\n",
              "      <td>VA</td>\n",
              "      <td>24091</td>\n",
              "      <td>500.0</td>\n",
              "      <td>2007-06-30</td>\n",
              "      <td>16</td>\n",
              "    </tr>\n",
              "    <tr>\n",
              "      <th>1</th>\n",
              "      <td>NaN</td>\n",
              "      <td>Ahrens</td>\n",
              "      <td>Don</td>\n",
              "      <td>NaN</td>\n",
              "      <td>4034 Rennellwood Way</td>\n",
              "      <td>NaN</td>\n",
              "      <td>Pleasanton</td>\n",
              "      <td>CA</td>\n",
              "      <td>94566</td>\n",
              "      <td>250.0</td>\n",
              "      <td>2007-05-16</td>\n",
              "      <td>16</td>\n",
              "    </tr>\n",
              "    <tr>\n",
              "      <th>2</th>\n",
              "      <td>NaN</td>\n",
              "      <td>Ahrens</td>\n",
              "      <td>Don</td>\n",
              "      <td>NaN</td>\n",
              "      <td>4034 Rennellwood Way</td>\n",
              "      <td>NaN</td>\n",
              "      <td>Pleasanton</td>\n",
              "      <td>CA</td>\n",
              "      <td>94566</td>\n",
              "      <td>50.0</td>\n",
              "      <td>2007-06-18</td>\n",
              "      <td>16</td>\n",
              "    </tr>\n",
              "    <tr>\n",
              "      <th>3</th>\n",
              "      <td>NaN</td>\n",
              "      <td>Ahrens</td>\n",
              "      <td>Don</td>\n",
              "      <td>NaN</td>\n",
              "      <td>4034 Rennellwood Way</td>\n",
              "      <td>NaN</td>\n",
              "      <td>Pleasanton</td>\n",
              "      <td>CA</td>\n",
              "      <td>94566</td>\n",
              "      <td>100.0</td>\n",
              "      <td>2007-06-21</td>\n",
              "      <td>16</td>\n",
              "    </tr>\n",
              "    <tr>\n",
              "      <th>4</th>\n",
              "      <td>NaN</td>\n",
              "      <td>Akin</td>\n",
              "      <td>Charles</td>\n",
              "      <td>NaN</td>\n",
              "      <td>10187 Sugar Creek Road</td>\n",
              "      <td>NaN</td>\n",
              "      <td>Bentonville</td>\n",
              "      <td>AR</td>\n",
              "      <td>72712</td>\n",
              "      <td>100.0</td>\n",
              "      <td>2007-06-16</td>\n",
              "      <td>16</td>\n",
              "    </tr>\n",
              "  </tbody>\n",
              "</table>\n",
              "</div>"
            ],
            "text/plain": [
              "   id last_name first_name middle_name                street_1 street_2  \\\n",
              "0 NaN      Agee     Steven         NaN  549 Laurel Branch Road      NaN   \n",
              "1 NaN    Ahrens        Don         NaN    4034 Rennellwood Way      NaN   \n",
              "2 NaN    Ahrens        Don         NaN    4034 Rennellwood Way      NaN   \n",
              "3 NaN    Ahrens        Don         NaN    4034 Rennellwood Way      NaN   \n",
              "4 NaN      Akin    Charles         NaN  10187 Sugar Creek Road      NaN   \n",
              "\n",
              "          city state    zip  amount        date  candidate_id  \n",
              "0        Floyd    VA  24091   500.0  2007-06-30            16  \n",
              "1   Pleasanton    CA  94566   250.0  2007-05-16            16  \n",
              "2   Pleasanton    CA  94566    50.0  2007-06-18            16  \n",
              "3   Pleasanton    CA  94566   100.0  2007-06-21            16  \n",
              "4  Bentonville    AR  72712   100.0  2007-06-16            16  "
            ]
          },
          "metadata": {
            "tags": []
          },
          "execution_count": 4
        }
      ]
    },
    {
      "cell_type": "markdown",
      "metadata": {
        "id": "GPVpEcYttN6c"
      },
      "source": [
        "You'll notice that the contributions dont have the first column, so we will need to be cleaning things up a bit..."
      ]
    },
    {
      "cell_type": "code",
      "metadata": {
        "colab": {
          "base_uri": "https://localhost:8080/",
          "height": 204
        },
        "id": "_MYaY2T9m_dB",
        "jupyter": {
          "outputs_hidden": false
        },
        "outputId": "38fed871-b11f-47d6-e591-139d69be09b2"
      },
      "source": [
        "del dfcwci['id']\n",
        "dfcwci.head()"
      ],
      "execution_count": null,
      "outputs": [
        {
          "output_type": "execute_result",
          "data": {
            "text/html": [
              "<div>\n",
              "<style scoped>\n",
              "    .dataframe tbody tr th:only-of-type {\n",
              "        vertical-align: middle;\n",
              "    }\n",
              "\n",
              "    .dataframe tbody tr th {\n",
              "        vertical-align: top;\n",
              "    }\n",
              "\n",
              "    .dataframe thead th {\n",
              "        text-align: right;\n",
              "    }\n",
              "</style>\n",
              "<table border=\"1\" class=\"dataframe\">\n",
              "  <thead>\n",
              "    <tr style=\"text-align: right;\">\n",
              "      <th></th>\n",
              "      <th>last_name</th>\n",
              "      <th>first_name</th>\n",
              "      <th>middle_name</th>\n",
              "      <th>street_1</th>\n",
              "      <th>street_2</th>\n",
              "      <th>city</th>\n",
              "      <th>state</th>\n",
              "      <th>zip</th>\n",
              "      <th>amount</th>\n",
              "      <th>date</th>\n",
              "      <th>candidate_id</th>\n",
              "    </tr>\n",
              "  </thead>\n",
              "  <tbody>\n",
              "    <tr>\n",
              "      <th>0</th>\n",
              "      <td>Agee</td>\n",
              "      <td>Steven</td>\n",
              "      <td>NaN</td>\n",
              "      <td>549 Laurel Branch Road</td>\n",
              "      <td>NaN</td>\n",
              "      <td>Floyd</td>\n",
              "      <td>VA</td>\n",
              "      <td>24091</td>\n",
              "      <td>500.0</td>\n",
              "      <td>2007-06-30</td>\n",
              "      <td>16</td>\n",
              "    </tr>\n",
              "    <tr>\n",
              "      <th>1</th>\n",
              "      <td>Ahrens</td>\n",
              "      <td>Don</td>\n",
              "      <td>NaN</td>\n",
              "      <td>4034 Rennellwood Way</td>\n",
              "      <td>NaN</td>\n",
              "      <td>Pleasanton</td>\n",
              "      <td>CA</td>\n",
              "      <td>94566</td>\n",
              "      <td>250.0</td>\n",
              "      <td>2007-05-16</td>\n",
              "      <td>16</td>\n",
              "    </tr>\n",
              "    <tr>\n",
              "      <th>2</th>\n",
              "      <td>Ahrens</td>\n",
              "      <td>Don</td>\n",
              "      <td>NaN</td>\n",
              "      <td>4034 Rennellwood Way</td>\n",
              "      <td>NaN</td>\n",
              "      <td>Pleasanton</td>\n",
              "      <td>CA</td>\n",
              "      <td>94566</td>\n",
              "      <td>50.0</td>\n",
              "      <td>2007-06-18</td>\n",
              "      <td>16</td>\n",
              "    </tr>\n",
              "    <tr>\n",
              "      <th>3</th>\n",
              "      <td>Ahrens</td>\n",
              "      <td>Don</td>\n",
              "      <td>NaN</td>\n",
              "      <td>4034 Rennellwood Way</td>\n",
              "      <td>NaN</td>\n",
              "      <td>Pleasanton</td>\n",
              "      <td>CA</td>\n",
              "      <td>94566</td>\n",
              "      <td>100.0</td>\n",
              "      <td>2007-06-21</td>\n",
              "      <td>16</td>\n",
              "    </tr>\n",
              "    <tr>\n",
              "      <th>4</th>\n",
              "      <td>Akin</td>\n",
              "      <td>Charles</td>\n",
              "      <td>NaN</td>\n",
              "      <td>10187 Sugar Creek Road</td>\n",
              "      <td>NaN</td>\n",
              "      <td>Bentonville</td>\n",
              "      <td>AR</td>\n",
              "      <td>72712</td>\n",
              "      <td>100.0</td>\n",
              "      <td>2007-06-16</td>\n",
              "      <td>16</td>\n",
              "    </tr>\n",
              "  </tbody>\n",
              "</table>\n",
              "</div>"
            ],
            "text/plain": [
              "  last_name first_name middle_name                street_1 street_2  \\\n",
              "0      Agee     Steven         NaN  549 Laurel Branch Road      NaN   \n",
              "1    Ahrens        Don         NaN    4034 Rennellwood Way      NaN   \n",
              "2    Ahrens        Don         NaN    4034 Rennellwood Way      NaN   \n",
              "3    Ahrens        Don         NaN    4034 Rennellwood Way      NaN   \n",
              "4      Akin    Charles         NaN  10187 Sugar Creek Road      NaN   \n",
              "\n",
              "          city state    zip  amount        date  candidate_id  \n",
              "0        Floyd    VA  24091   500.0  2007-06-30            16  \n",
              "1   Pleasanton    CA  94566   250.0  2007-05-16            16  \n",
              "2   Pleasanton    CA  94566    50.0  2007-06-18            16  \n",
              "3   Pleasanton    CA  94566   100.0  2007-06-21            16  \n",
              "4  Bentonville    AR  72712   100.0  2007-06-16            16  "
            ]
          },
          "metadata": {
            "tags": []
          },
          "execution_count": 5
        }
      ]
    },
    {
      "cell_type": "markdown",
      "metadata": {
        "id": "1ioqAYC3tTSt"
      },
      "source": [
        "## Pandas Data Types: Encoding\n",
        "\n",
        "The pandas data types are the encodings for our data..you can see them here"
      ]
    },
    {
      "cell_type": "code",
      "metadata": {
        "colab": {
          "base_uri": "https://localhost:8080/"
        },
        "id": "f4STjWT3tYT6",
        "outputId": "87ba1def-d184-4152-d308-1e840b659d99"
      },
      "source": [
        "dfcand.dtypes"
      ],
      "execution_count": null,
      "outputs": [
        {
          "output_type": "execute_result",
          "data": {
            "text/plain": [
              "id              int64\n",
              "first_name     object\n",
              "last_name      object\n",
              "middle_name    object\n",
              "party          object\n",
              "dtype: object"
            ]
          },
          "metadata": {
            "tags": []
          },
          "execution_count": 6
        }
      ]
    },
    {
      "cell_type": "markdown",
      "metadata": {
        "id": "-cQX_b50X8pi"
      },
      "source": [
        "Since names can be many, we'll let them be strings. But the `party` is constrained in the values it can have."
      ]
    },
    {
      "cell_type": "code",
      "metadata": {
        "id": "WoCFMHkBX8pi",
        "outputId": "0cb32c7a-4ea4-4dd6-f881-517f536884fa"
      },
      "source": [
        "dfcand.party.unique()"
      ],
      "execution_count": null,
      "outputs": [
        {
          "output_type": "execute_result",
          "data": {
            "text/plain": [
              "array(['D', 'R'], dtype=object)"
            ]
          },
          "metadata": {
            "tags": []
          },
          "execution_count": 7
        }
      ]
    },
    {
      "cell_type": "markdown",
      "metadata": {
        "id": "omlWCAKRX8pj"
      },
      "source": [
        "This is a prime candidate for converting to a categorical(nominal) variable."
      ]
    },
    {
      "cell_type": "code",
      "metadata": {
        "id": "DbB-V3gvX8pj"
      },
      "source": [
        "dfcand['party'] = dfcand.party.astype('category')"
      ],
      "execution_count": null,
      "outputs": []
    },
    {
      "cell_type": "markdown",
      "metadata": {
        "id": "Lky-FewVX8pk"
      },
      "source": [
        "Things change now"
      ]
    },
    {
      "cell_type": "code",
      "metadata": {
        "id": "-nQeKtOVX8pk",
        "outputId": "ae517afe-dbe3-4cdf-acf7-03ba6bdc457d"
      },
      "source": [
        "dfcand.dtypes"
      ],
      "execution_count": null,
      "outputs": [
        {
          "output_type": "execute_result",
          "data": {
            "text/plain": [
              "id                int64\n",
              "first_name       object\n",
              "last_name        object\n",
              "middle_name      object\n",
              "party          category\n",
              "dtype: object"
            ]
          },
          "metadata": {
            "tags": []
          },
          "execution_count": 9
        }
      ]
    },
    {
      "cell_type": "code",
      "metadata": {
        "id": "BENqZMqEX8pk",
        "outputId": "3aba34a2-dd35-4163-a674-3f227a99c166"
      },
      "source": [
        "dfcand.party"
      ],
      "execution_count": null,
      "outputs": [
        {
          "output_type": "execute_result",
          "data": {
            "text/plain": [
              "0     D\n",
              "1     R\n",
              "2     D\n",
              "3     D\n",
              "4     D\n",
              "5     R\n",
              "6     D\n",
              "7     R\n",
              "8     R\n",
              "9     D\n",
              "10    R\n",
              "11    D\n",
              "12    R\n",
              "13    D\n",
              "14    R\n",
              "15    R\n",
              "16    R\n",
              "Name: party, dtype: category\n",
              "Categories (2, object): ['D', 'R']"
            ]
          },
          "metadata": {
            "tags": []
          },
          "execution_count": 11
        }
      ]
    },
    {
      "cell_type": "markdown",
      "metadata": {
        "id": "j3SBKgO4X8pl"
      },
      "source": [
        "The implementation is to associate numbers..."
      ]
    },
    {
      "cell_type": "code",
      "metadata": {
        "id": "-AFAU_QWX8pm",
        "outputId": "13e99888-71db-42d8-a962-ef6a0a0eba37"
      },
      "source": [
        "dfcand.party.cat.codes"
      ],
      "execution_count": null,
      "outputs": [
        {
          "output_type": "execute_result",
          "data": {
            "text/plain": [
              "0     0\n",
              "1     1\n",
              "2     0\n",
              "3     0\n",
              "4     0\n",
              "5     1\n",
              "6     0\n",
              "7     1\n",
              "8     1\n",
              "9     0\n",
              "10    1\n",
              "11    0\n",
              "12    1\n",
              "13    0\n",
              "14    1\n",
              "15    1\n",
              "16    1\n",
              "dtype: int8"
            ]
          },
          "metadata": {
            "tags": []
          },
          "execution_count": 13
        }
      ]
    },
    {
      "cell_type": "markdown",
      "metadata": {
        "id": "7hRmLx4qX8pn"
      },
      "source": [
        "The categories are:"
      ]
    },
    {
      "cell_type": "code",
      "metadata": {
        "id": "Y3VbwcwMX8pn",
        "outputId": "160fdf76-7d4f-415d-f3d7-10a6e00108a4"
      },
      "source": [
        "dfcand.party.cat.categories"
      ],
      "execution_count": null,
      "outputs": [
        {
          "output_type": "execute_result",
          "data": {
            "text/plain": [
              "Index(['D', 'R'], dtype='object')"
            ]
          },
          "metadata": {
            "tags": []
          },
          "execution_count": 18
        }
      ]
    },
    {
      "cell_type": "markdown",
      "metadata": {
        "id": "HCgPd2y6X8po"
      },
      "source": [
        "And the ordering is False, as these are categoricals:"
      ]
    },
    {
      "cell_type": "code",
      "metadata": {
        "id": "3b8bsJF2X8po",
        "outputId": "8cd79c5a-1f39-4f12-9e4e-a36009d2a731"
      },
      "source": [
        "dfcand.party.cat.ordered"
      ],
      "execution_count": null,
      "outputs": [
        {
          "output_type": "execute_result",
          "data": {
            "text/plain": [
              "False"
            ]
          },
          "metadata": {
            "tags": []
          },
          "execution_count": 19
        }
      ]
    },
    {
      "cell_type": "markdown",
      "metadata": {
        "id": "C2dZgE0qX8po"
      },
      "source": [
        "What are good candidates for conversion to categorical here?"
      ]
    },
    {
      "cell_type": "code",
      "metadata": {
        "colab": {
          "base_uri": "https://localhost:8080/"
        },
        "id": "ItJLZ6DstcxJ",
        "outputId": "0ba8f0a3-f5e7-4c0a-b56e-ef1d8ef48a10"
      },
      "source": [
        "dfcwci.dtypes"
      ],
      "execution_count": null,
      "outputs": [
        {
          "output_type": "execute_result",
          "data": {
            "text/plain": [
              "last_name        object\n",
              "first_name       object\n",
              "middle_name      object\n",
              "street_1         object\n",
              "street_2         object\n",
              "city             object\n",
              "state            object\n",
              "zip               int64\n",
              "amount          float64\n",
              "date             object\n",
              "candidate_id      int64\n",
              "dtype: object"
            ]
          },
          "metadata": {
            "tags": []
          },
          "execution_count": 46
        }
      ]
    },
    {
      "cell_type": "markdown",
      "metadata": {
        "id": "ntnHAc-qX8pp"
      },
      "source": [
        "What about Ordinal variables? We can use Pandas categoricals for this as well. And what if we did not have all the categories in our data?"
      ]
    },
    {
      "cell_type": "code",
      "metadata": {
        "id": "imhx5TrfX8pp",
        "outputId": "ebfb2b91-7c23-465a-beaa-aae441ccd48e"
      },
      "source": [
        "dfcwci.state.unique().shape"
      ],
      "execution_count": null,
      "outputs": [
        {
          "output_type": "execute_result",
          "data": {
            "text/plain": [
              "(36,)"
            ]
          },
          "metadata": {
            "tags": []
          },
          "execution_count": 21
        }
      ]
    },
    {
      "cell_type": "code",
      "metadata": {
        "id": "hvoZGYoQX8pq",
        "outputId": "2a28a253-81c8-4c40-a271-8ae6744d9d11"
      },
      "source": [
        "states = [\"AL\", \"AK\", \"AZ\", \"AR\", \"CA\", \"CO\", \"CT\", \"DE\", \"DC\", \"FL\", \"GA\", \"HI\", \"ID\", \"IL\", \"IN\", \"IA\", \"KS\", \"KY\", \"LA\", \"ME\", \"MD\", \"MA\", \"MI\", \"MN\", \"MS\", \"MO\", \"MT\", \"NE\", \"NV\", \"NH\", \"NJ\", \"NM\", \"NY\", \"NC\", \"ND\", \"OH\", \"OK\", \"OR\", \"PA\", \"RI\", \"SC\", \"SD\", \"TN\", \"TX\", \"UT\", \"VT\", \"VA\", \"WA\", \"WV\", \"WI\", \"WY\"]\n",
        "len(states)"
      ],
      "execution_count": null,
      "outputs": [
        {
          "output_type": "execute_result",
          "data": {
            "text/plain": [
              "51"
            ]
          },
          "metadata": {
            "tags": []
          },
          "execution_count": 22
        }
      ]
    },
    {
      "cell_type": "code",
      "metadata": {
        "id": "2Ao8xI-DX8pq"
      },
      "source": [
        "from pandas.api.types import CategoricalDtype\n",
        "dfcwci['state'] = dfcwci.state.astype(CategoricalDtype(states))"
      ],
      "execution_count": null,
      "outputs": []
    },
    {
      "cell_type": "code",
      "metadata": {
        "id": "WluTVd8TX8pq",
        "outputId": "1d6b2d26-9fbd-4669-a7d0-52baf75cf98a"
      },
      "source": [
        "dfcwci.state.cat.codes"
      ],
      "execution_count": null,
      "outputs": [
        {
          "output_type": "execute_result",
          "data": {
            "text/plain": [
              "0      46\n",
              "1       4\n",
              "2       4\n",
              "3       4\n",
              "4       3\n",
              "       ..\n",
              "170     2\n",
              "171    18\n",
              "172    13\n",
              "173    43\n",
              "174    43\n",
              "Length: 175, dtype: int8"
            ]
          },
          "metadata": {
            "tags": []
          },
          "execution_count": 25
        }
      ]
    },
    {
      "cell_type": "markdown",
      "metadata": {
        "id": "4vpLZ1bMX8pr"
      },
      "source": [
        "And if for some bizarre reason we encoded the states as ordinal, alphabetically (this is more useful for true ordinals such as restaurant ratings, grades, etc)"
      ]
    },
    {
      "cell_type": "code",
      "metadata": {
        "id": "iY-2o0niX8ps"
      },
      "source": [
        "dfcwci['state'] = dfcwci.state.astype(CategoricalDtype(states, ordered=True))"
      ],
      "execution_count": null,
      "outputs": []
    },
    {
      "cell_type": "code",
      "metadata": {
        "id": "J8AzIQAyX8ps",
        "outputId": "4a007a6e-ae81-4c5c-eb34-b8095a32f5af"
      },
      "source": [
        "dfcwci.state.cat.ordered"
      ],
      "execution_count": null,
      "outputs": [
        {
          "output_type": "execute_result",
          "data": {
            "text/plain": [
              "True"
            ]
          },
          "metadata": {
            "tags": []
          },
          "execution_count": 27
        }
      ]
    },
    {
      "cell_type": "code",
      "metadata": {
        "id": "VkhpMNuCX8pt",
        "outputId": "2ec8248c-ed69-45eb-bd56-d7e3792a1036"
      },
      "source": [
        "dfcwci.sort_values(by='state', ascending=False)"
      ],
      "execution_count": null,
      "outputs": [
        {
          "output_type": "execute_result",
          "data": {
            "text/html": [
              "<div>\n",
              "<style scoped>\n",
              "    .dataframe tbody tr th:only-of-type {\n",
              "        vertical-align: middle;\n",
              "    }\n",
              "\n",
              "    .dataframe tbody tr th {\n",
              "        vertical-align: top;\n",
              "    }\n",
              "\n",
              "    .dataframe thead th {\n",
              "        text-align: right;\n",
              "    }\n",
              "</style>\n",
              "<table border=\"1\" class=\"dataframe\">\n",
              "  <thead>\n",
              "    <tr style=\"text-align: right;\">\n",
              "      <th></th>\n",
              "      <th>last_name</th>\n",
              "      <th>first_name</th>\n",
              "      <th>middle_name</th>\n",
              "      <th>street_1</th>\n",
              "      <th>street_2</th>\n",
              "      <th>city</th>\n",
              "      <th>state</th>\n",
              "      <th>zip</th>\n",
              "      <th>amount</th>\n",
              "      <th>date</th>\n",
              "      <th>candidate_id</th>\n",
              "    </tr>\n",
              "  </thead>\n",
              "  <tbody>\n",
              "    <tr>\n",
              "      <th>62</th>\n",
              "      <td>BURKE</td>\n",
              "      <td>SUZANNE</td>\n",
              "      <td>M.</td>\n",
              "      <td>3401 EVANSTON</td>\n",
              "      <td>NaN</td>\n",
              "      <td>SEATTLE</td>\n",
              "      <td>WA</td>\n",
              "      <td>981038677</td>\n",
              "      <td>-700.0</td>\n",
              "      <td>2008-03-05</td>\n",
              "      <td>22</td>\n",
              "    </tr>\n",
              "    <tr>\n",
              "      <th>100</th>\n",
              "      <td>Aaronson</td>\n",
              "      <td>Rebecca</td>\n",
              "      <td>NaN</td>\n",
              "      <td>2000 Village Green Dr Apt 12</td>\n",
              "      <td>NaN</td>\n",
              "      <td>Mill Creek</td>\n",
              "      <td>WA</td>\n",
              "      <td>980125787</td>\n",
              "      <td>100.0</td>\n",
              "      <td>2008-02-08</td>\n",
              "      <td>34</td>\n",
              "    </tr>\n",
              "    <tr>\n",
              "      <th>106</th>\n",
              "      <td>Aaronson</td>\n",
              "      <td>Rebecca</td>\n",
              "      <td>NaN</td>\n",
              "      <td>2000 Village Green Dr Apt 12</td>\n",
              "      <td>NaN</td>\n",
              "      <td>Mill Creek</td>\n",
              "      <td>WA</td>\n",
              "      <td>980125787</td>\n",
              "      <td>100.0</td>\n",
              "      <td>2008-02-14</td>\n",
              "      <td>34</td>\n",
              "    </tr>\n",
              "    <tr>\n",
              "      <th>0</th>\n",
              "      <td>Agee</td>\n",
              "      <td>Steven</td>\n",
              "      <td>NaN</td>\n",
              "      <td>549 Laurel Branch Road</td>\n",
              "      <td>NaN</td>\n",
              "      <td>Floyd</td>\n",
              "      <td>VA</td>\n",
              "      <td>24091</td>\n",
              "      <td>500.0</td>\n",
              "      <td>2007-06-30</td>\n",
              "      <td>16</td>\n",
              "    </tr>\n",
              "    <tr>\n",
              "      <th>77</th>\n",
              "      <td>Ranganath</td>\n",
              "      <td>Anoop</td>\n",
              "      <td>NaN</td>\n",
              "      <td>2507 Willard Drive</td>\n",
              "      <td>NaN</td>\n",
              "      <td>Charlottesville</td>\n",
              "      <td>VA</td>\n",
              "      <td>22903</td>\n",
              "      <td>-100.0</td>\n",
              "      <td>2008-04-21</td>\n",
              "      <td>32</td>\n",
              "    </tr>\n",
              "    <tr>\n",
              "      <th>...</th>\n",
              "      <td>...</td>\n",
              "      <td>...</td>\n",
              "      <td>...</td>\n",
              "      <td>...</td>\n",
              "      <td>...</td>\n",
              "      <td>...</td>\n",
              "      <td>...</td>\n",
              "      <td>...</td>\n",
              "      <td>...</td>\n",
              "      <td>...</td>\n",
              "      <td>...</td>\n",
              "    </tr>\n",
              "    <tr>\n",
              "      <th>170</th>\n",
              "      <td>ABESHAUS</td>\n",
              "      <td>MERRILL</td>\n",
              "      <td>M.</td>\n",
              "      <td>1801 N. HEREFORD DRIVE</td>\n",
              "      <td>NaN</td>\n",
              "      <td>FLAGSTAFF</td>\n",
              "      <td>AZ</td>\n",
              "      <td>860011121</td>\n",
              "      <td>120.0</td>\n",
              "      <td>2008-01-16</td>\n",
              "      <td>37</td>\n",
              "    </tr>\n",
              "    <tr>\n",
              "      <th>163</th>\n",
              "      <td>AARONS</td>\n",
              "      <td>CHARLES</td>\n",
              "      <td>NaN</td>\n",
              "      <td>1730 SHORE DRIVE</td>\n",
              "      <td>NaN</td>\n",
              "      <td>ANCHORAGE</td>\n",
              "      <td>AK</td>\n",
              "      <td>995153207</td>\n",
              "      <td>410.0</td>\n",
              "      <td>2008-01-15</td>\n",
              "      <td>37</td>\n",
              "    </tr>\n",
              "    <tr>\n",
              "      <th>164</th>\n",
              "      <td>AARONS</td>\n",
              "      <td>CHARLES</td>\n",
              "      <td>NaN</td>\n",
              "      <td>1730 SHORE DRIVE</td>\n",
              "      <td>NaN</td>\n",
              "      <td>ANCHORAGE</td>\n",
              "      <td>AK</td>\n",
              "      <td>995153207</td>\n",
              "      <td>500.0</td>\n",
              "      <td>2008-01-09</td>\n",
              "      <td>37</td>\n",
              "    </tr>\n",
              "    <tr>\n",
              "      <th>162</th>\n",
              "      <td>AARONS</td>\n",
              "      <td>CHARLES</td>\n",
              "      <td>NaN</td>\n",
              "      <td>1730 SHORE DRIVE</td>\n",
              "      <td>NaN</td>\n",
              "      <td>ANCHORAGE</td>\n",
              "      <td>AK</td>\n",
              "      <td>995153207</td>\n",
              "      <td>300.0</td>\n",
              "      <td>2008-01-30</td>\n",
              "      <td>37</td>\n",
              "    </tr>\n",
              "    <tr>\n",
              "      <th>125</th>\n",
              "      <td>BOURNE</td>\n",
              "      <td>TRAVIS</td>\n",
              "      <td>NaN</td>\n",
              "      <td>LAGE KAART 77</td>\n",
              "      <td>NaN</td>\n",
              "      <td>BRASSCHATT</td>\n",
              "      <td>NaN</td>\n",
              "      <td>2930</td>\n",
              "      <td>-500.0</td>\n",
              "      <td>2008-11-20</td>\n",
              "      <td>35</td>\n",
              "    </tr>\n",
              "  </tbody>\n",
              "</table>\n",
              "<p>175 rows × 11 columns</p>\n",
              "</div>"
            ],
            "text/plain": [
              "     last_name first_name middle_name                      street_1 street_2  \\\n",
              "62       BURKE    SUZANNE          M.                 3401 EVANSTON      NaN   \n",
              "100   Aaronson    Rebecca         NaN  2000 Village Green Dr Apt 12      NaN   \n",
              "106   Aaronson    Rebecca         NaN  2000 Village Green Dr Apt 12      NaN   \n",
              "0         Agee     Steven         NaN        549 Laurel Branch Road      NaN   \n",
              "77   Ranganath      Anoop         NaN            2507 Willard Drive      NaN   \n",
              "..         ...        ...         ...                           ...      ...   \n",
              "170   ABESHAUS    MERRILL          M.        1801 N. HEREFORD DRIVE      NaN   \n",
              "163     AARONS    CHARLES         NaN              1730 SHORE DRIVE      NaN   \n",
              "164     AARONS    CHARLES         NaN              1730 SHORE DRIVE      NaN   \n",
              "162     AARONS    CHARLES         NaN              1730 SHORE DRIVE      NaN   \n",
              "125     BOURNE     TRAVIS         NaN                 LAGE KAART 77      NaN   \n",
              "\n",
              "                city state        zip  amount        date  candidate_id  \n",
              "62           SEATTLE    WA  981038677  -700.0  2008-03-05            22  \n",
              "100       Mill Creek    WA  980125787   100.0  2008-02-08            34  \n",
              "106       Mill Creek    WA  980125787   100.0  2008-02-14            34  \n",
              "0              Floyd    VA      24091   500.0  2007-06-30            16  \n",
              "77   Charlottesville    VA      22903  -100.0  2008-04-21            32  \n",
              "..               ...   ...        ...     ...         ...           ...  \n",
              "170        FLAGSTAFF    AZ  860011121   120.0  2008-01-16            37  \n",
              "163        ANCHORAGE    AK  995153207   410.0  2008-01-15            37  \n",
              "164        ANCHORAGE    AK  995153207   500.0  2008-01-09            37  \n",
              "162        ANCHORAGE    AK  995153207   300.0  2008-01-30            37  \n",
              "125       BRASSCHATT   NaN       2930  -500.0  2008-11-20            35  \n",
              "\n",
              "[175 rows x 11 columns]"
            ]
          },
          "metadata": {
            "tags": []
          },
          "execution_count": 29
        }
      ]
    },
    {
      "cell_type": "markdown",
      "metadata": {
        "id": "Ph2RL5Cem_c8"
      },
      "source": [
        "## SQL and Relational Databases"
      ]
    },
    {
      "cell_type": "markdown",
      "metadata": {
        "id": "CzeIMPkKm_c9"
      },
      "source": [
        "Lets start with Relational Databases, so called because they contain \"relations\" (tables), which are SETS of \"tuples\" (rows) which map \"attributes\" (columns) to atomic values.\n",
        "\n",
        "The available attributes are constrained by a \"header\" tuple of attributes which set the type. We do this below here, using the SQL language to set things up."
      ]
    },
    {
      "cell_type": "markdown",
      "metadata": {
        "id": "t-sW-minX8pu"
      },
      "source": [
        "```sql\n",
        "DROP TABLE IF EXISTS \"candidates\";\n",
        "DROP TABLE IF EXISTS \"contributors\";\n",
        "CREATE TABLE \"candidates\" (\n",
        "    \"id\" INTEGER PRIMARY KEY  NOT NULL ,\n",
        "    \"first_name\" VARCHAR,\n",
        "    \"last_name\" VARCHAR,\n",
        "    \"middle_name\" VARCHAR,\n",
        "    \"party\" VARCHAR NOT NULL\n",
        ");\n",
        "CREATE TABLE \"contributors\" (\n",
        "    \"id\" INTEGER PRIMARY KEY  AUTOINCREMENT  NOT NULL,\n",
        "    \"last_name\" VARCHAR,\n",
        "    \"first_name\" VARCHAR,\n",
        "    \"middle_name\" VARCHAR,\n",
        "    \"street_1\" VARCHAR,\n",
        "    \"street_2\" VARCHAR,\n",
        "    \"city\" VARCHAR,\n",
        "    \"state\" VARCHAR,\n",
        "    \"zip\" VARCHAR, -- Notice that we are converting the zip from integer to string\n",
        "    \"amount\" INTEGER,\n",
        "    \"date\" DATETIME,\n",
        "    \"candidate_id\" INTEGER NOT NULL,\n",
        "    FOREIGN KEY(candidate_id) REFERENCES candidates(id)\n",
        ");\n",
        "```"
      ]
    },
    {
      "cell_type": "code",
      "metadata": {
        "id": "8idaiQlZm_c9"
      },
      "source": [
        "ourschema=\"\"\"\n",
        "DROP TABLE IF EXISTS \"candidates\";\n",
        "DROP TABLE IF EXISTS \"contributors\";\n",
        "CREATE TABLE \"candidates\" (\n",
        "    \"id\" INTEGER PRIMARY KEY  NOT NULL ,\n",
        "    \"first_name\" VARCHAR,\n",
        "    \"last_name\" VARCHAR,\n",
        "    \"middle_name\" VARCHAR,\n",
        "    \"party\" VARCHAR NOT NULL\n",
        ");\n",
        "CREATE TABLE \"contributors\" (\n",
        "    \"id\" INTEGER PRIMARY KEY  AUTOINCREMENT  NOT NULL,\n",
        "    \"last_name\" VARCHAR,\n",
        "    \"first_name\" VARCHAR,\n",
        "    \"middle_name\" VARCHAR,\n",
        "    \"street_1\" VARCHAR,\n",
        "    \"street_2\" VARCHAR,\n",
        "    \"city\" VARCHAR,\n",
        "    \"state\" VARCHAR,\n",
        "    \"zip\" VARCHAR, -- Notice that we are converting the zip from integer to string\n",
        "    \"amount\" INTEGER,\n",
        "    \"date\" DATETIME,\n",
        "    \"candidate_id\" INTEGER NOT NULL,\n",
        "    FOREIGN KEY(candidate_id) REFERENCES candidates(id)\n",
        ");\n",
        "\"\"\""
      ],
      "execution_count": null,
      "outputs": []
    },
    {
      "cell_type": "markdown",
      "metadata": {
        "id": "cjAII0bfm_c-"
      },
      "source": [
        "### SQLITE"
      ]
    },
    {
      "cell_type": "markdown",
      "metadata": {
        "id": "TDsvtf-4m_c-"
      },
      "source": [
        "We use sqlite here (and recommend Postgres for production purposes). Sqlite is a on-file database, as opposed to other common databases such as Oracle and Psogres, which run as different processes on your system. Sqlite is great for on-disk large databases which wont fit into memory. \n",
        "\n",
        "Its also built into Python, but to use the [command line tool](https://www.sqlite.org/cli.html), I recommend you install it: https://www.sqlite.org/download.html. I also recommend you download and install the sqlite browser: http://sqlitebrowser.org .\n",
        "\n",
        "Python implements a standard database API over all databases. Its called [DBAPI2](http://cewing.github.io/training.codefellows/lectures/day21/intro_to_dbapi2.html). It works across many SQL databases.\n",
        "\n",
        "There is an even higher level API available, called [SQLAlchemy](http://www.sqlalchemy.org). While we wont use it here, I thoroughly recommend it. Many things in Pandas use it to interface with databases. Here we'll get away with things by using SQLITE."
      ]
    },
    {
      "cell_type": "markdown",
      "metadata": {
        "id": "KOtOyNB7m_c_"
      },
      "source": [
        "We'll write some functions to connect to Sqlite.\n",
        "\n",
        "(1) Connect and get a DBAPI2 connection."
      ]
    },
    {
      "cell_type": "code",
      "metadata": {
        "id": "QERb7MJ5m_c_",
        "jupyter": {
          "outputs_hidden": false
        }
      },
      "source": [
        "from sqlite3 import dbapi2 as sq3\n",
        "from pathlib import Path\n",
        "PATHSTART=\".\"\n",
        "def get_db(dbfile):\n",
        "    sqlite_db = sq3.connect(Path(PATHSTART) / dbfile)\n",
        "    return sqlite_db"
      ],
      "execution_count": null,
      "outputs": []
    },
    {
      "cell_type": "markdown",
      "metadata": {
        "id": "k0oqaDWBm_c_"
      },
      "source": [
        "(2) Set up the database with tables. Drop tables if they exist and create them."
      ]
    },
    {
      "cell_type": "code",
      "metadata": {
        "id": "9CfxsBEIm_c_"
      },
      "source": [
        "def init_db(dbfile, schema):\n",
        "    \"\"\"Creates the database tables.\"\"\"\n",
        "    db = get_db(dbfile) \n",
        "    db.cursor().executescript(schema)\n",
        "    db.commit()\n",
        "    return db"
      ],
      "execution_count": null,
      "outputs": []
    },
    {
      "cell_type": "markdown",
      "metadata": {
        "id": "y0uWjtFKm_dC"
      },
      "source": [
        "Initializing the database:"
      ]
    },
    {
      "cell_type": "code",
      "metadata": {
        "id": "a40cefD0m_dC",
        "jupyter": {
          "outputs_hidden": false
        }
      },
      "source": [
        "db=init_db(\"/tmp/cancont.db\", ourschema)"
      ],
      "execution_count": null,
      "outputs": []
    },
    {
      "cell_type": "markdown",
      "metadata": {
        "id": "dNSPx5EVm_dC"
      },
      "source": [
        "### Populating with Pandas!!"
      ]
    },
    {
      "cell_type": "code",
      "metadata": {
        "id": "34zblnjzm_dC",
        "jupyter": {
          "outputs_hidden": false
        }
      },
      "source": [
        "dfcand.to_sql(\"candidates\", db, if_exists=\"append\", index=False)"
      ],
      "execution_count": null,
      "outputs": []
    },
    {
      "cell_type": "code",
      "metadata": {
        "id": "fBTGE06Lm_dD"
      },
      "source": [
        "dfcwci.to_sql(\"contributors\", db, if_exists=\"append\", index=False)"
      ],
      "execution_count": null,
      "outputs": []
    },
    {
      "cell_type": "markdown",
      "metadata": {
        "id": "-rhs-C-quikW"
      },
      "source": [
        "Now we can do queries in the lingua franca of databases: SQL"
      ]
    },
    {
      "cell_type": "code",
      "metadata": {
        "id": "g3pK8mn9m_dD",
        "jupyter": {
          "outputs_hidden": false
        }
      },
      "source": [
        "sel=\"\"\"\n",
        "SELECT * FROM candidates;\n",
        "\"\"\"\n",
        "c=db.cursor().execute(sel)"
      ],
      "execution_count": null,
      "outputs": []
    },
    {
      "cell_type": "code",
      "metadata": {
        "colab": {
          "base_uri": "https://localhost:8080/"
        },
        "id": "LfIjGht9m_dE",
        "jupyter": {
          "outputs_hidden": false
        },
        "outputId": "8021152e-fda0-485d-8d15-bed6327a3d5c"
      },
      "source": [
        "c.fetchall()"
      ],
      "execution_count": null,
      "outputs": [
        {
          "output_type": "execute_result",
          "data": {
            "text/plain": [
              "[(16, 'Mike', 'Huckabee', None, 'R'),\n",
              " (20, 'Barack', 'Obama', None, 'D'),\n",
              " (22, 'Rudolph', 'Giuliani', None, 'R'),\n",
              " (24, 'Mike', 'Gravel', None, 'D'),\n",
              " (26, 'John', 'Edwards', None, 'D'),\n",
              " (29, 'Bill', 'Richardson', None, 'D'),\n",
              " (30, 'Duncan', 'Hunter', None, 'R'),\n",
              " (31, 'Dennis', 'Kucinich', None, 'D'),\n",
              " (32, 'Ron', 'Paul', None, 'R'),\n",
              " (33, 'Joseph', 'Biden', None, 'D'),\n",
              " (34, 'Hillary', 'Clinton', 'R.', 'D'),\n",
              " (35, 'Mitt', 'Romney', None, 'R'),\n",
              " (36, 'Samuel', 'Brownback', None, 'R'),\n",
              " (37, 'John', 'McCain', None, 'R'),\n",
              " (38, 'Tom', 'Tancredo', None, 'R'),\n",
              " (39, 'Christopher', 'Dodd', 'J.', 'D'),\n",
              " (41, 'Fred', 'Thompson', 'D.', 'R')]"
            ]
          },
          "metadata": {
            "tags": []
          },
          "execution_count": 54
        }
      ]
    },
    {
      "cell_type": "code",
      "metadata": {
        "id": "BR6XSxavm_dH"
      },
      "source": [
        "def make_query(sel):\n",
        "    c=db.cursor().execute(sel)\n",
        "    return c.fetchall()"
      ],
      "execution_count": null,
      "outputs": []
    },
    {
      "cell_type": "code",
      "metadata": {
        "colab": {
          "base_uri": "https://localhost:8080/"
        },
        "id": "reihv5B7m_dH",
        "jupyter": {
          "outputs_hidden": false
        },
        "outputId": "eceb6c8b-717d-45d7-919e-e8004c923f9e"
      },
      "source": [
        "make_query(\"SELECT * FROM candidates;\")"
      ],
      "execution_count": null,
      "outputs": [
        {
          "output_type": "execute_result",
          "data": {
            "text/plain": [
              "[(16, 'Mike', 'Huckabee', None, 'R'),\n",
              " (20, 'Barack', 'Obama', None, 'D'),\n",
              " (22, 'Rudolph', 'Giuliani', None, 'R'),\n",
              " (24, 'Mike', 'Gravel', None, 'D'),\n",
              " (26, 'John', 'Edwards', None, 'D'),\n",
              " (29, 'Bill', 'Richardson', None, 'D'),\n",
              " (30, 'Duncan', 'Hunter', None, 'R'),\n",
              " (31, 'Dennis', 'Kucinich', None, 'D'),\n",
              " (32, 'Ron', 'Paul', None, 'R'),\n",
              " (33, 'Joseph', 'Biden', None, 'D'),\n",
              " (34, 'Hillary', 'Clinton', 'R.', 'D'),\n",
              " (35, 'Mitt', 'Romney', None, 'R'),\n",
              " (36, 'Samuel', 'Brownback', None, 'R'),\n",
              " (37, 'John', 'McCain', None, 'R'),\n",
              " (38, 'Tom', 'Tancredo', None, 'R'),\n",
              " (39, 'Christopher', 'Dodd', 'J.', 'D'),\n",
              " (41, 'Fred', 'Thompson', 'D.', 'R')]"
            ]
          },
          "metadata": {
            "tags": []
          },
          "execution_count": 56
        }
      ]
    },
    {
      "cell_type": "code",
      "metadata": {
        "id": "2Ay8JNdWX8p0",
        "outputId": "b4216696-c432-4430-cd28-f5d2cb18cd1e"
      },
      "source": [
        "cont_cols = [e[1] for e in make_query(\"PRAGMA table_info(candidates);\")]\n",
        "cont_cols"
      ],
      "execution_count": null,
      "outputs": [
        {
          "output_type": "execute_result",
          "data": {
            "text/plain": [
              "['id', 'first_name', 'last_name', 'middle_name', 'party']"
            ]
          },
          "metadata": {
            "tags": []
          },
          "execution_count": 57
        }
      ]
    },
    {
      "cell_type": "code",
      "metadata": {
        "colab": {
          "base_uri": "https://localhost:8080/",
          "height": 210
        },
        "id": "FpFkKYUlm_dM",
        "jupyter": {
          "outputs_hidden": false
        },
        "outputId": "8ada3d89-2b24-4745-cdd7-c28a4e6509b0"
      },
      "source": [
        "out=make_query(\"SELECT * FROM candidates;\")\n",
        "make_frame(out, legend=cont_cols)"
      ],
      "execution_count": null,
      "outputs": [
        {
          "output_type": "execute_result",
          "data": {
            "text/html": [
              "<div>\n",
              "<style scoped>\n",
              "    .dataframe tbody tr th:only-of-type {\n",
              "        vertical-align: middle;\n",
              "    }\n",
              "\n",
              "    .dataframe tbody tr th {\n",
              "        vertical-align: top;\n",
              "    }\n",
              "\n",
              "    .dataframe thead th {\n",
              "        text-align: right;\n",
              "    }\n",
              "</style>\n",
              "<table border=\"1\" class=\"dataframe\">\n",
              "  <thead>\n",
              "    <tr style=\"text-align: right;\">\n",
              "      <th></th>\n",
              "      <th>id</th>\n",
              "      <th>first_name</th>\n",
              "      <th>last_name</th>\n",
              "      <th>middle_name</th>\n",
              "      <th>party</th>\n",
              "    </tr>\n",
              "  </thead>\n",
              "  <tbody>\n",
              "    <tr>\n",
              "      <th>0</th>\n",
              "      <td>16</td>\n",
              "      <td>Mike</td>\n",
              "      <td>Huckabee</td>\n",
              "      <td>None</td>\n",
              "      <td>R</td>\n",
              "    </tr>\n",
              "    <tr>\n",
              "      <th>1</th>\n",
              "      <td>20</td>\n",
              "      <td>Barack</td>\n",
              "      <td>Obama</td>\n",
              "      <td>None</td>\n",
              "      <td>D</td>\n",
              "    </tr>\n",
              "    <tr>\n",
              "      <th>2</th>\n",
              "      <td>22</td>\n",
              "      <td>Rudolph</td>\n",
              "      <td>Giuliani</td>\n",
              "      <td>None</td>\n",
              "      <td>R</td>\n",
              "    </tr>\n",
              "    <tr>\n",
              "      <th>3</th>\n",
              "      <td>24</td>\n",
              "      <td>Mike</td>\n",
              "      <td>Gravel</td>\n",
              "      <td>None</td>\n",
              "      <td>D</td>\n",
              "    </tr>\n",
              "    <tr>\n",
              "      <th>4</th>\n",
              "      <td>26</td>\n",
              "      <td>John</td>\n",
              "      <td>Edwards</td>\n",
              "      <td>None</td>\n",
              "      <td>D</td>\n",
              "    </tr>\n",
              "    <tr>\n",
              "      <th>5</th>\n",
              "      <td>29</td>\n",
              "      <td>Bill</td>\n",
              "      <td>Richardson</td>\n",
              "      <td>None</td>\n",
              "      <td>D</td>\n",
              "    </tr>\n",
              "    <tr>\n",
              "      <th>6</th>\n",
              "      <td>30</td>\n",
              "      <td>Duncan</td>\n",
              "      <td>Hunter</td>\n",
              "      <td>None</td>\n",
              "      <td>R</td>\n",
              "    </tr>\n",
              "    <tr>\n",
              "      <th>7</th>\n",
              "      <td>31</td>\n",
              "      <td>Dennis</td>\n",
              "      <td>Kucinich</td>\n",
              "      <td>None</td>\n",
              "      <td>D</td>\n",
              "    </tr>\n",
              "    <tr>\n",
              "      <th>8</th>\n",
              "      <td>32</td>\n",
              "      <td>Ron</td>\n",
              "      <td>Paul</td>\n",
              "      <td>None</td>\n",
              "      <td>R</td>\n",
              "    </tr>\n",
              "    <tr>\n",
              "      <th>9</th>\n",
              "      <td>33</td>\n",
              "      <td>Joseph</td>\n",
              "      <td>Biden</td>\n",
              "      <td>None</td>\n",
              "      <td>D</td>\n",
              "    </tr>\n",
              "    <tr>\n",
              "      <th>10</th>\n",
              "      <td>34</td>\n",
              "      <td>Hillary</td>\n",
              "      <td>Clinton</td>\n",
              "      <td>R.</td>\n",
              "      <td>D</td>\n",
              "    </tr>\n",
              "    <tr>\n",
              "      <th>11</th>\n",
              "      <td>35</td>\n",
              "      <td>Mitt</td>\n",
              "      <td>Romney</td>\n",
              "      <td>None</td>\n",
              "      <td>R</td>\n",
              "    </tr>\n",
              "    <tr>\n",
              "      <th>12</th>\n",
              "      <td>36</td>\n",
              "      <td>Samuel</td>\n",
              "      <td>Brownback</td>\n",
              "      <td>None</td>\n",
              "      <td>R</td>\n",
              "    </tr>\n",
              "    <tr>\n",
              "      <th>13</th>\n",
              "      <td>37</td>\n",
              "      <td>John</td>\n",
              "      <td>McCain</td>\n",
              "      <td>None</td>\n",
              "      <td>R</td>\n",
              "    </tr>\n",
              "    <tr>\n",
              "      <th>14</th>\n",
              "      <td>38</td>\n",
              "      <td>Tom</td>\n",
              "      <td>Tancredo</td>\n",
              "      <td>None</td>\n",
              "      <td>R</td>\n",
              "    </tr>\n",
              "    <tr>\n",
              "      <th>15</th>\n",
              "      <td>39</td>\n",
              "      <td>Christopher</td>\n",
              "      <td>Dodd</td>\n",
              "      <td>J.</td>\n",
              "      <td>D</td>\n",
              "    </tr>\n",
              "    <tr>\n",
              "      <th>16</th>\n",
              "      <td>41</td>\n",
              "      <td>Fred</td>\n",
              "      <td>Thompson</td>\n",
              "      <td>D.</td>\n",
              "      <td>R</td>\n",
              "    </tr>\n",
              "  </tbody>\n",
              "</table>\n",
              "</div>"
            ],
            "text/plain": [
              "    id   first_name   last_name middle_name party\n",
              "0   16         Mike    Huckabee        None     R\n",
              "1   20       Barack       Obama        None     D\n",
              "2   22      Rudolph    Giuliani        None     R\n",
              "3   24         Mike      Gravel        None     D\n",
              "4   26         John     Edwards        None     D\n",
              "5   29         Bill  Richardson        None     D\n",
              "6   30       Duncan      Hunter        None     R\n",
              "7   31       Dennis    Kucinich        None     D\n",
              "8   32          Ron        Paul        None     R\n",
              "9   33       Joseph       Biden        None     D\n",
              "10  34      Hillary     Clinton          R.     D\n",
              "11  35         Mitt      Romney        None     R\n",
              "12  36       Samuel   Brownback        None     R\n",
              "13  37         John      McCain        None     R\n",
              "14  38          Tom    Tancredo        None     R\n",
              "15  39  Christopher        Dodd          J.     D\n",
              "16  41         Fred    Thompson          D.     R"
            ]
          },
          "metadata": {
            "tags": []
          },
          "execution_count": 65
        }
      ]
    },
    {
      "cell_type": "markdown",
      "metadata": {
        "id": "84TsZpTCm_di"
      },
      "source": [
        "## Indexes"
      ]
    },
    {
      "cell_type": "code",
      "metadata": {
        "id": "UwkASN0Jm_di"
      },
      "source": [
        "crind=\"CREATE INDEX amount_ix ON contributors(amount);\"\n",
        "db.cursor().execute(crind)\n",
        "db.commit()"
      ],
      "execution_count": null,
      "outputs": []
    },
    {
      "cell_type": "code",
      "metadata": {
        "colab": {
          "base_uri": "https://localhost:8080/"
        },
        "id": "lD3hfSlWBv7h",
        "outputId": "398f0b46-cd9c-4084-d439-4eb03ef170f9"
      },
      "source": [
        "db.cursor().execute(\"SELECT sql FROM sqlite_master WHERE type='index'\").fetchall()"
      ],
      "execution_count": null,
      "outputs": [
        {
          "output_type": "execute_result",
          "data": {
            "text/plain": [
              "[('CREATE INDEX amount_ix ON contributors(amount)',)]"
            ]
          },
          "metadata": {
            "tags": []
          },
          "execution_count": 67
        }
      ]
    },
    {
      "cell_type": "code",
      "metadata": {
        "colab": {
          "base_uri": "https://localhost:8080/"
        },
        "id": "n9ubmqRhCfOL",
        "outputId": "11570e11-02a5-4c4a-ac0e-8111f02b9c6b"
      },
      "source": [
        "db.cursor().execute(\"SELECT sql FROM sqlite_master WHERE type='table'\").fetchall()"
      ],
      "execution_count": null,
      "outputs": [
        {
          "output_type": "execute_result",
          "data": {
            "text/plain": [
              "[('CREATE TABLE sqlite_sequence(name,seq)',),\n",
              " ('CREATE TABLE \"candidates\" (\\n    \"id\" INTEGER PRIMARY KEY  NOT NULL ,\\n    \"first_name\" VARCHAR,\\n    \"last_name\" VARCHAR,\\n    \"middle_name\" VARCHAR,\\n    \"party\" VARCHAR NOT NULL\\n)',),\n",
              " ('CREATE TABLE \"contributors\" (\\n    \"id\" INTEGER PRIMARY KEY  AUTOINCREMENT  NOT NULL,\\n    \"last_name\" VARCHAR,\\n    \"first_name\" VARCHAR,\\n    \"middle_name\" VARCHAR,\\n    \"street_1\" VARCHAR,\\n    \"street_2\" VARCHAR,\\n    \"city\" VARCHAR,\\n    \"state\" VARCHAR,\\n    \"zip\" VARCHAR, -- Notice that we are converting the zip from integer to string\\n    \"amount\" INTEGER,\\n    \"date\" DATETIME,\\n    \"candidate_id\" INTEGER NOT NULL,\\n    FOREIGN KEY(candidate_id) REFERENCES candidates(id)\\n)',)]"
            ]
          },
          "metadata": {
            "tags": []
          },
          "execution_count": 68
        }
      ]
    },
    {
      "cell_type": "code",
      "metadata": {
        "id": "k73O3ddNX8p2",
        "outputId": "99352755-dfbf-4a03-fead-f216eab1d432"
      },
      "source": [
        "out=make_query(\"SELECT * FROM contributors WHERE amount > 2000;\")\n",
        "make_frame(out, legend=cont_cols)"
      ],
      "execution_count": null,
      "outputs": [
        {
          "output_type": "execute_result",
          "data": {
            "text/html": [
              "<div>\n",
              "<style scoped>\n",
              "    .dataframe tbody tr th:only-of-type {\n",
              "        vertical-align: middle;\n",
              "    }\n",
              "\n",
              "    .dataframe tbody tr th {\n",
              "        vertical-align: top;\n",
              "    }\n",
              "\n",
              "    .dataframe thead th {\n",
              "        text-align: right;\n",
              "    }\n",
              "</style>\n",
              "<table border=\"1\" class=\"dataframe\">\n",
              "  <thead>\n",
              "    <tr style=\"text-align: right;\">\n",
              "      <th></th>\n",
              "      <th>id</th>\n",
              "      <th>first_name</th>\n",
              "      <th>last_name</th>\n",
              "      <th>middle_name</th>\n",
              "      <th>party</th>\n",
              "    </tr>\n",
              "  </thead>\n",
              "  <tbody>\n",
              "    <tr>\n",
              "      <th>0</th>\n",
              "      <td>14</td>\n",
              "      <td>Altes</td>\n",
              "      <td>R.D.</td>\n",
              "      <td>None</td>\n",
              "      <td>8600 Moody Road</td>\n",
              "    </tr>\n",
              "    <tr>\n",
              "      <th>1</th>\n",
              "      <td>16</td>\n",
              "      <td>Anthony</td>\n",
              "      <td>John</td>\n",
              "      <td>None</td>\n",
              "      <td>211 Long Island Drive</td>\n",
              "    </tr>\n",
              "    <tr>\n",
              "      <th>2</th>\n",
              "      <td>22</td>\n",
              "      <td>Baker</td>\n",
              "      <td>David</td>\n",
              "      <td>None</td>\n",
              "      <td>2550 Adamsbrooke Drive</td>\n",
              "    </tr>\n",
              "    <tr>\n",
              "      <th>3</th>\n",
              "      <td>29</td>\n",
              "      <td>Buckel</td>\n",
              "      <td>Linda</td>\n",
              "      <td>None</td>\n",
              "      <td>PO Box 683130</td>\n",
              "    </tr>\n",
              "    <tr>\n",
              "      <th>4</th>\n",
              "      <td>34</td>\n",
              "      <td>Buck</td>\n",
              "      <td>Blaine</td>\n",
              "      <td>M</td>\n",
              "      <td>45 Eaton Ave</td>\n",
              "    </tr>\n",
              "    <tr>\n",
              "      <th>5</th>\n",
              "      <td>136</td>\n",
              "      <td>ABRAMOWITZ</td>\n",
              "      <td>NIRA</td>\n",
              "      <td>None</td>\n",
              "      <td>411 HARBOR ROAD</td>\n",
              "    </tr>\n",
              "    <tr>\n",
              "      <th>6</th>\n",
              "      <td>160</td>\n",
              "      <td>ABATE</td>\n",
              "      <td>MARIA</td>\n",
              "      <td>ELENA</td>\n",
              "      <td>1291 NIGHTINGALE AVENUE</td>\n",
              "    </tr>\n",
              "    <tr>\n",
              "      <th>7</th>\n",
              "      <td>31</td>\n",
              "      <td>Buckel</td>\n",
              "      <td>Linda</td>\n",
              "      <td>None</td>\n",
              "      <td>PO Box 683130</td>\n",
              "    </tr>\n",
              "  </tbody>\n",
              "</table>\n",
              "</div>"
            ],
            "text/plain": [
              "    id  first_name last_name middle_name                    party\n",
              "0   14       Altes      R.D.        None          8600 Moody Road\n",
              "1   16     Anthony      John        None    211 Long Island Drive\n",
              "2   22       Baker     David        None   2550 Adamsbrooke Drive\n",
              "3   29      Buckel     Linda        None            PO Box 683130\n",
              "4   34        Buck    Blaine           M             45 Eaton Ave\n",
              "5  136  ABRAMOWITZ      NIRA        None          411 HARBOR ROAD\n",
              "6  160       ABATE     MARIA       ELENA  1291 NIGHTINGALE AVENUE\n",
              "7   31      Buckel     Linda        None            PO Box 683130"
            ]
          },
          "metadata": {
            "tags": []
          },
          "execution_count": 70
        }
      ]
    },
    {
      "cell_type": "markdown",
      "metadata": {
        "id": "Fn2J4KGRm_dy"
      },
      "source": [
        "## Useful Links"
      ]
    },
    {
      "cell_type": "markdown",
      "metadata": {
        "id": "osH_Elwwm_dy"
      },
      "source": [
        "- http://sebastianraschka.com/Articles/sqlite3_database.html and  http://sebastianraschka.com/Articles/2014_sqlite_in_python_tutorial.html#unique_indexes\n",
        "- https://github.com/tthibo/SQL-Tutorial\n",
        "- https://chrisalbon.com"
      ]
    }
  ]
}